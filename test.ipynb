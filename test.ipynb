{
 "cells": [
  {
   "cell_type": "code",
   "execution_count": null,
   "metadata": {},
   "outputs": [],
   "source": [
    "import matplotlib.pyplot as plt\n",
    "import torch\n",
    "print(torch.backends.mps.is_available())"
   ]
  },
  {
   "cell_type": "code",
   "execution_count": 1,
   "metadata": {},
   "outputs": [],
   "source": [
    "token =\"\"\n",
    "with open(\".token\") as f:\n",
    "    token = f.read()"
   ]
  },
  {
   "cell_type": "code",
   "execution_count": null,
   "metadata": {},
   "outputs": [],
   "source": [
    "from huggingface_hub import login\n",
    "login(token = token)"
   ]
  },
  {
   "cell_type": "code",
   "execution_count": null,
   "metadata": {},
   "outputs": [],
   "source": [
    "# diffusers==0.26.3\n",
    "from diffusers import DiffusionPipeline \n",
    "from diffusers import StableDiffusionPipeline\n",
    "from diffusers import StableDiffusionXLPipeline\n",
    "from diffusers import StableDiffusionXLAdapterPipeline\n",
    "\n",
    "from optimum.quanto import freeze, qfloat8, quantize, qfloat8_e5m2, qfloat8_e4m3fnuz, qint8\n",
    "\n",
    "# model_id = 'gsdf/Counterfeit-V2.5'\n",
    "model_id = 'stabilityai/japanese-stable-diffusion-xl'\n",
    "device = 'mps'\n",
    "# pipe = StableDiffusionXLPipeline.from_pretrained(model_id, trust_remote_code=True).to(device)\n",
    "# pipe = DiffusionPipeline.from_pretrained(model_id, trust_remote_code=True, low_cpu_mem_usage=False)\n",
    "# pipe = DiffusionPipeline.from_pretrained(model_id, trust_remote_code=True, low_cpu_mem_usage=False, torch_dtype=torch.float16)\n",
    "# pipe = StableDiffusionPipeline.from_pretrained(model_id, trust_remote_code=True)\n",
    "# pipe = StableDiffusionXLPipeline.from_pretrained(model_id, trust_remote_code=True)\n",
    "# pipe = StableDiffusionXLAdapterPipeline.from_pretrained(model_id, trust_remote_code=True)\n",
    "\n",
    "# print(pipe)\n",
    "\n",
    "# quantize(pipe.tokenizer, weights=qfloat8)\n",
    "# freeze(pipe.tokenizer)\n",
    "# quantize(pipe.text_encoder, weights=qfloat8)\n",
    "# freeze(pipe.text_encoder)\n",
    "# quantize(pipe.text_encoder, weights=qint8)\n",
    "# freeze(pipe.text_encoder)\n",
    "\n",
    "# pipe = pipe.to(device)"
   ]
  },
  {
   "cell_type": "code",
   "execution_count": null,
   "metadata": {},
   "outputs": [],
   "source": [
    "prompt = '窓際でキジ猫と真っ白な猫が2匹横に並んで外を見ている,写真'\n",
    "# 512 47s\n",
    "# 640 1:20\n",
    "# 768 2:7 結構綺麗\n",
    "# 896 3:00 綺麗\n",
    "# 1024 3:52\n",
    "for i in range(4):\n",
    "    torch.mps.empty_cache()\n",
    "    pipe = DiffusionPipeline.from_pretrained(model_id, trust_remote_code=True, low_cpu_mem_usage=False, torch_dtype=torch.float16)\n",
    "    pipe = pipe.to(device)\n",
    "    img = pipe(prompt=prompt, width=1024, height=1024, num_inference_steps=23).images[0]\n",
    "    # img.show()\n",
    "    plt.imshow(img)\n",
    "    plt.show()"
   ]
  },
  {
   "cell_type": "code",
   "execution_count": null,
   "metadata": {},
   "outputs": [],
   "source": []
  }
 ],
 "metadata": {
  "kernelspec": {
   "display_name": "Python 3",
   "language": "python",
   "name": "python3"
  },
  "language_info": {
   "codemirror_mode": {
    "name": "ipython",
    "version": 3
   },
   "file_extension": ".py",
   "mimetype": "text/x-python",
   "name": "python",
   "nbconvert_exporter": "python",
   "pygments_lexer": "ipython3",
   "version": "3.8.10"
  }
 },
 "nbformat": 4,
 "nbformat_minor": 2
}
